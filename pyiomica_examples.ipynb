{
 "cells": [
  {
   "cell_type": "code",
   "execution_count": 9,
   "metadata": {},
   "outputs": [],
   "source": [
    "from pyiomica import pyiomica\n",
    "import os\n",
    "import numpy as np\n",
    "import pandas as pd"
   ]
  },
  {
   "cell_type": "code",
   "execution_count": 4,
   "metadata": {},
   "outputs": [
    {
     "name": "stdout",
     "output_type": "stream",
     "text": [
      "     0    1    2\n",
      "0  1.0  2.0  3.0\n",
      "1  4.0  2.0  6.0\n",
      "2  7.0  3.0  4.0\n",
      "3  2.0  2.0  8.0\n",
      "4  4.0  4.0  4.0\n",
      "Quantile normalizing signals...\n",
      "          0         1         2\n",
      "0 -5.199338 -5.199338 -5.199338\n",
      "1  0.318639 -5.199338  0.674490\n",
      "2  5.199338  0.674490 -0.318639\n",
      "3 -0.674490 -5.199338  5.199338\n",
      "4  0.318639  5.199338 -0.318639\n"
     ]
    }
   ],
   "source": [
    " ####### Test sklearn Quantile transform #######################################################################################################################################\n",
    "df = pd.DataFrame(np.array([[1,2,3],[4,2,6],[7,3,4],[2,2,8],[4,4,4]]).astype(float))\n",
    "print(df)\n",
    "\n",
    "df_Q_normed = pyiomica.quantileNormalizeDataframe(df)\n",
    "print(df)"
   ]
  },
  {
   "cell_type": "code",
   "execution_count": 6,
   "metadata": {},
   "outputs": [
    {
     "name": "stdout",
     "output_type": "stream",
     "text": [
      "Saved: EnrichmentOutputDirectory/GOAnalysis/goExample1.xlsx\n",
      "Saved: EnrichmentOutputDirectory/GOAnalysis/analysisGOAssociation.xlsx\n",
      "Saved: EnrichmentOutputDirectory/GOAnalysis/analysisGOLabel.xlsx\n",
      "Saved: EnrichmentOutputDirectory/GOAnalysis/analysisGOMixed.xlsx\n",
      "Saved: EnrichmentOutputDirectory/GOAnalysis/analysisGOMixedMulti.xlsx\n",
      "ExampleClusteringObject.pklz not found.\n",
      "Saved: EnrichmentOutputDirectory/KEGGAnalysis/keggExample1.xlsx\n",
      "Saved: EnrichmentOutputDirectory/KEGGAnalysis/analysisKEGGAssociation.xlsx\n",
      "Saved: EnrichmentOutputDirectory/KEGGAnalysis/analysisKEGGLabel.xlsx\n",
      "Saved: EnrichmentOutputDirectory/KEGGAnalysis/analysisKEGGNoLabel.xlsx\n",
      "Saved: EnrichmentOutputDirectory/KEGGAnalysis/analysisKEGGstrings.xlsx\n",
      "Saved: EnrichmentOutputDirectory/KEGGAnalysis/analysisKEGGMixed.xlsx\n",
      "Saved: EnrichmentOutputDirectory/KEGGAnalysis/analysisKEGGMixedMulti.xlsx\n",
      "Saved: EnrichmentOutputDirectory/KEGGAnalysis/compoundsExampleKEGG.xlsx\n",
      "Saved: EnrichmentOutputDirectory/KEGGAnalysis/multiOmicsDataKEGG.xlsx\n",
      "ExampleClusteringObject.pklz not found.\n"
     ]
    }
   ],
   "source": [
    "####### Demo on GO and KEGG Annotations #######################################################################################################################################\n",
    "from pyiomica import examples\n",
    "examples.testGOAnalysis('EnrichmentOutputDirectory/')\n",
    "examples.testKEGGAnalysis('EnrichmentOutputDirectory/')"
   ]
  },
  {
   "cell_type": "code",
   "execution_count": 7,
   "metadata": {},
   "outputs": [
    {
     "name": "stdout",
     "output_type": "stream",
     "text": [
      "C:\\Users\\Domanskyi\\AppData\\Local\\Domanskyi\\pyiomica\n",
      "C:\\Users\\Domanskyi\\AppData\\Roaming\\Python\\Python37\\site-packages\\pyiomica\n"
     ]
    }
   ],
   "source": [
    "print(pyiomica.UserDataDirectory)\n",
    "print(pyiomica.PackageDirectory)"
   ]
  },
  {
   "cell_type": "code",
   "execution_count": 8,
   "metadata": {},
   "outputs": [],
   "source": [
    "import webbrowser\n",
    "\n",
    "import matplotlib\n",
    "import matplotlib.pyplot as plt\n",
    "from matplotlib import cm"
   ]
  },
  {
   "cell_type": "code",
   "execution_count": null,
   "metadata": {},
   "outputs": [],
   "source": []
  }
 ],
 "metadata": {
  "kernelspec": {
   "display_name": "Python 3",
   "language": "python",
   "name": "python3"
  },
  "language_info": {
   "codemirror_mode": {
    "name": "ipython",
    "version": 3
   },
   "file_extension": ".py",
   "mimetype": "text/x-python",
   "name": "python",
   "nbconvert_exporter": "python",
   "pygments_lexer": "ipython3",
   "version": "3.7.1"
  }
 },
 "nbformat": 4,
 "nbformat_minor": 2
}
